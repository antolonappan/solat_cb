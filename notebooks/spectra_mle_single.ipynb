{
 "cells": [
  {
   "cell_type": "code",
   "execution_count": 1,
   "metadata": {},
   "outputs": [],
   "source": [
    "\n",
    "import numpy as np\n",
    "import matplotlib.pyplot as plt\n",
    "import sys\n",
    "import os\n",
    "from tqdm import tqdm\n",
    "sys.path.append('..')"
   ]
  },
  {
   "cell_type": "code",
   "execution_count": 2,
   "metadata": {},
   "outputs": [],
   "source": [
    "%load_ext autoreload\n",
    "%autoreload 2\n",
    "from lat_cb.signal import *\n",
    "from lat_cb.spectra import *\n",
    "from lat_cb.mle import *"
   ]
  },
  {
   "cell_type": "code",
   "execution_count": 3,
   "metadata": {},
   "outputs": [],
   "source": [
    "libdir ='/pscratch/sd/l/lonappan/SOLAT'\n",
    "nside = 512\n",
    "beta = 0.35\n",
    "dust = 10\n",
    "synch = 5\n",
    "alpha = [0.1,0.1,0.2,0.2,.3,.3]\n",
    "atm_noise = False\n",
    "nsplits = 2\n",
    "bandpass = False"
   ]
  },
  {
   "cell_type": "code",
   "execution_count": 5,
   "metadata": {},
   "outputs": [
    {
     "name": "stdout",
     "output_type": "stream",
     "text": [
      "Noise Model: White noise v3.0.0\n",
      "Masking CO\n",
      "Masking PS\n",
      "Apodising mask\n",
      "Apodised mask saved to /pscratch/sd/l/lonappan/SOLAT/LAT_white_noise_2splits/spectra_512_aposcale1p5_common/workspaces/mask_N512_aposcale1p5_CO_PS.fits\n",
      "Computing coupling Matrix\n",
      "Coupling Matrix saved to /pscratch/sd/l/lonappan/SOLAT/LAT_white_noise_2splits/spectra_512_aposcale1p5_common/workspaces/coupling_matrix_N512_fsky0p56_aposcale1p5_CO_PS.fits\n"
     ]
    }
   ],
   "source": [
    "lat = LATsky(libdir,nside,beta,dust,synch,alpha,atm_noise,nsplits,bandpass)\n",
    "spec = Spectra(lat)"
   ]
  },
  {
   "cell_type": "code",
   "execution_count": 6,
   "metadata": {},
   "outputs": [
    {
     "name": "stderr",
     "output_type": "stream",
     "text": [
      "dust x dust spectra: 100%|██████████| 6/6 [00:34<00:00,  5.79s/band]\n",
      "Saving Observed QUs: 100%|██████████| 12/12 [00:02<00:00,  5.46band/s]\n",
      "obs x obs spectra: 100%|██████████| 12/12 [01:57<00:00,  9.81s/band]\n",
      "dust x obs spectra: 100%|██████████| 6/6 [01:41<00:00, 16.96s/band]\n",
      "sync x dust spectra: 100%|██████████| 6/6 [00:55<00:00,  9.29s/band]\n",
      "sync x sync spectra: 100%|██████████| 6/6 [00:34<00:00,  5.72s/band]\n",
      "sync x obs spectra: 100%|██████████| 6/6 [01:41<00:00, 17.00s/band]\n"
     ]
    }
   ],
   "source": [
    "spec.compute(0,True)"
   ]
  },
  {
   "cell_type": "code",
   "execution_count": 8,
   "metadata": {},
   "outputs": [],
   "source": [
    "fit = \"As + Asd + Ad + beta + alpha\"\n",
    "binwidth = 20\n",
    "bmin = 50\n",
    "bmax = 1500"
   ]
  },
  {
   "cell_type": "code",
   "execution_count": 9,
   "metadata": {},
   "outputs": [
    {
     "name": "stdout",
     "output_type": "stream",
     "text": [
      "Fitting a common polarisation angle per frequency\n"
     ]
    }
   ],
   "source": [
    "ml = MLE(libdir,spec,fit, alpha_per_split=False,rm_same_tube=False)"
   ]
  },
  {
   "cell_type": "code",
   "execution_count": 10,
   "metadata": {},
   "outputs": [
    {
     "data": {
      "text/plain": [
       "{'As': 1.1606639005092299,\n",
       " 'Asd': 0.9703979159150872,\n",
       " 'Ad': 0.9419587706197672,\n",
       " 'beta': 0.34609210773169197,\n",
       " '27': 0.1378370664821764,\n",
       " '39': 0.11691959371444587,\n",
       " '93': 0.19180148081229,\n",
       " '145': 0.1866827259086251,\n",
       " '225': 0.28633639580221265,\n",
       " '280': 0.2671805374156427}"
      ]
     },
     "execution_count": 10,
     "metadata": {},
     "output_type": "execute_result"
    }
   ],
   "source": [
    "ml.estimate_angles(0)"
   ]
  },
  {
   "cell_type": "code",
   "execution_count": null,
   "metadata": {},
   "outputs": [],
   "source": []
  }
 ],
 "metadata": {
  "kernelspec": {
   "display_name": "Python 3",
   "language": "python",
   "name": "python3"
  },
  "language_info": {
   "codemirror_mode": {
    "name": "ipython",
    "version": 3
   },
   "file_extension": ".py",
   "mimetype": "text/x-python",
   "name": "python",
   "nbconvert_exporter": "python",
   "pygments_lexer": "ipython3",
   "version": "3.9.18"
  }
 },
 "nbformat": 4,
 "nbformat_minor": 2
}
